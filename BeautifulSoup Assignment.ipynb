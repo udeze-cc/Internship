{
 "cells": [
  {
   "cell_type": "code",
   "execution_count": 1,
   "id": "cc568617",
   "metadata": {
    "scrolled": false
   },
   "outputs": [
    {
     "name": "stdout",
     "output_type": "stream",
     "text": [
      "Collecting bs4\n",
      "  Using cached bs4-0.0.1.tar.gz (1.1 kB)\n",
      "  Preparing metadata (setup.py): started\n",
      "  Preparing metadata (setup.py): finished with status 'done'\n",
      "Requirement already satisfied: beautifulsoup4 in c:\\users\\udeze\\anaconda3\\lib\\site-packages (from bs4) (4.11.1)\n",
      "Requirement already satisfied: soupsieve>1.2 in c:\\users\\udeze\\anaconda3\\lib\\site-packages (from beautifulsoup4->bs4) (2.3.1)\n",
      "Building wheels for collected packages: bs4\n",
      "  Building wheel for bs4 (setup.py): started\n",
      "  Building wheel for bs4 (setup.py): finished with status 'done'\n",
      "  Created wheel for bs4: filename=bs4-0.0.1-py3-none-any.whl size=1257 sha256=72efb2d2d901c3743e27ec38dda3b5c87851c454d66d6ba11714a03c9044a961\n",
      "  Stored in directory: c:\\users\\udeze\\appdata\\local\\pip\\cache\\wheels\\73\\2b\\cb\\099980278a0c9a3e57ff1a89875ec07bfa0b6fcbebb9a8cad3\n",
      "Successfully built bs4\n",
      "Installing collected packages: bs4\n",
      "Successfully installed bs4-0.0.1\n",
      "Requirement already satisfied: requests in c:\\users\\udeze\\anaconda3\\lib\\site-packages (2.28.1)\n",
      "Requirement already satisfied: certifi>=2017.4.17 in c:\\users\\udeze\\anaconda3\\lib\\site-packages (from requests) (2022.9.14)\n",
      "Requirement already satisfied: charset-normalizer<3,>=2 in c:\\users\\udeze\\anaconda3\\lib\\site-packages (from requests) (2.0.4)\n",
      "Requirement already satisfied: idna<4,>=2.5 in c:\\users\\udeze\\anaconda3\\lib\\site-packages (from requests) (3.3)\n",
      "Requirement already satisfied: urllib3<1.27,>=1.21.1 in c:\\users\\udeze\\anaconda3\\lib\\site-packages (from requests) (1.26.11)\n"
     ]
    }
   ],
   "source": [
    "!pip install bs4\n",
    "!pip install requests"
   ]
  },
  {
   "cell_type": "code",
   "execution_count": null,
   "id": "a57ee560",
   "metadata": {},
   "outputs": [],
   "source": [
    "from bs4 import BeautifulSoup\n",
    "import requests\n",
    "import pandas as pd\n",
    "import re"
   ]
  },
  {
   "cell_type": "code",
   "execution_count": 22,
   "id": "6d7a9654",
   "metadata": {},
   "outputs": [
    {
     "data": {
      "text/plain": [
       "<Response [200]>"
      ]
     },
     "execution_count": 22,
     "metadata": {},
     "output_type": "execute_result"
    }
   ],
   "source": [
    "page = requests.get('https://en.wikipedia.org/wiki/Main_Page')\n",
    "page"
   ]
  },
  {
   "cell_type": "markdown",
   "id": "b91e07a3",
   "metadata": {},
   "source": [
    "# Headers"
   ]
  },
  {
   "cell_type": "code",
   "execution_count": null,
   "id": "fd423b3e",
   "metadata": {},
   "outputs": [],
   "source": [
    "soup = BeautifulSoup(page.content)\n",
    "soup"
   ]
  },
  {
   "cell_type": "code",
   "execution_count": 90,
   "id": "4dad15f1",
   "metadata": {
    "scrolled": true
   },
   "outputs": [
    {
     "name": "stdout",
     "output_type": "stream",
     "text": [
      "                                              Headers\n",
      "0   \\n            Edit your password\\n            ...\n",
      "1                                           Follow Us\n",
      "2                                           Follow Us\n",
      "3                                           Follow Us\n",
      "4                                           Follow Us\n",
      "5                                           Follow Us\n",
      "6                                           Follow Us\n",
      "7                                           Follow Us\n",
      "8                                           Follow Us\n",
      "9                                           Follow Us\n",
      "10                                              Men's\n",
      "11                                            Women's\n",
      "12                         Men's Test Player Rankings\n",
      "13  Explore the top men's Test players in the MRF ...\n",
      "14                              Test Batting Rankings\n",
      "15                              Test Bowling Rankings\n",
      "16                          Test All-Rounder Rankings\n",
      "17                       Men's All-Time Test Rankings\n",
      "18                          All-Time Batting Rankings\n",
      "19                          All-Time Bowling Rankings\n",
      "20                      All-Time All-Rounder Rankings\n",
      "21                                  BROADCAST PARTNER\n",
      "22                              SOCIAL RESPONSIBILITY\n",
      "23                                          Follow Us\n",
      "24                                      Cookie Notice\n"
     ]
    }
   ],
   "source": [
    "headers = []\n",
    "for i in soup.find_all({'h1', 'h2', 'h3', 'h4', 'h5', 'h6'}):\n",
    "    headers.append(i.text)\n",
    "                       \n",
    "headers\n",
    "\n",
    "df = pd.DataFrame({'Headers': headers})\n",
    "\n",
    "print(df)"
   ]
  },
  {
   "cell_type": "markdown",
   "id": "1c78e074",
   "metadata": {},
   "source": [
    "# Former Presidents of India"
   ]
  },
  {
   "cell_type": "code",
   "execution_count": 54,
   "id": "0f5f7c8f",
   "metadata": {},
   "outputs": [
    {
     "data": {
      "text/plain": [
       "<Response [404]>"
      ]
     },
     "execution_count": 54,
     "metadata": {},
     "output_type": "execute_result"
    }
   ],
   "source": [
    "pres = requests.get('https://presidentofindia.nic.in/former-presidents.htm')\n",
    "pres"
   ]
  },
  {
   "cell_type": "markdown",
   "id": "0bcbec46",
   "metadata": {},
   "source": [
    "# Ice Cricket - Top 10 Men Team\n"
   ]
  },
  {
   "cell_type": "code",
   "execution_count": 160,
   "id": "443e95a2",
   "metadata": {},
   "outputs": [
    {
     "name": "stdout",
     "output_type": "stream",
     "text": [
      "               Team Matches Points Rating\n",
      "0        India\\nIND      49  5,839    119\n",
      "1    Australia\\nAUS      36  4,015    112\n",
      "2     Pakistan\\nPAK      32  3,525    110\n",
      "3  South Africa\\nSA      29  3,166    109\n",
      "4   New Zealand\\nNZ      38  4,007    105\n",
      "5      England\\nENG      34  3,377     99\n",
      "6     Sri Lanka\\nSL      43  3,943     92\n",
      "7   Bangladesh\\nBAN      40  3,574     89\n",
      "8  Afghanistan\\nAFG      26  2,170     83\n",
      "9   West Indies\\nWI      38  2,582     68\n"
     ]
    }
   ],
   "source": [
    "iccMen = 'https://www.icc-cricket.com/rankings/mens/team-rankings/odi'\n",
    "response = requests.get(iccMen)\n",
    "\n",
    "soup = BeautifulSoup(response.content)\n",
    "\n",
    "table = soup.find('table', class_='table')\n",
    "\n",
    "teams = []\n",
    "matches = []\n",
    "points = []\n",
    "ratings = []\n",
    "\n",
    "for i in table.find_all('tr')[1:11]:  \n",
    "    columns = i.find_all('td')\n",
    "    if len(columns) == 5:\n",
    "        team = columns[1].text.strip()\n",
    "        match = columns[2].text.strip()\n",
    "        point = columns[3].text.strip()\n",
    "        rating = columns[4].text.strip()\n",
    "\n",
    "        teams.append(team)\n",
    "        matches.append(match)\n",
    "        points.append(point)\n",
    "        ratings.append(rating)\n",
    "\n",
    "df = pd.DataFrame({'Team': teams,'Matches': matches,'Points': points, 'Rating': ratings})\n",
    "\n",
    "print(df)\n"
   ]
  },
  {
   "cell_type": "markdown",
   "id": "ec2b1dd5",
   "metadata": {},
   "source": [
    "# Top 10 ODI Batmen"
   ]
  },
  {
   "cell_type": "code",
   "execution_count": 134,
   "id": "b3a4bc06",
   "metadata": {},
   "outputs": [
    {
     "name": "stdout",
     "output_type": "stream",
     "text": [
      "                  Player              Team Rating\n",
      "0             Babar Azam        India\\nIND    119\n",
      "1           Shubman Gill    Australia\\nAUS    112\n",
      "2        Quinton de Kock     Pakistan\\nPAK    110\n",
      "3       Heinrich Klaasen  South Africa\\nSA    109\n",
      "4           David Warner   New Zealand\\nNZ    105\n",
      "5            Virat Kohli      England\\nENG     99\n",
      "6           Harry Tector     Sri Lanka\\nSL     92\n",
      "7           Rohit Sharma   Bangladesh\\nBAN     89\n",
      "8  Rassie van der Dussen  Afghanistan\\nAFG     83\n",
      "9            Imam-ul-Haq   West Indies\\nWI     68\n"
     ]
    }
   ],
   "source": [
    "odiBatmen = 'https://www.icc-cricket.com/rankings/mens/player-rankings/odi/batting'\n",
    "response = requests.get(odiBatmen)\n",
    "\n",
    "soup = BeautifulSoup(response.content)\n",
    "\n",
    "table = []\n",
    "\n",
    "\n",
    "for i in soup.find_all('table', class_=\"table rankings-table\"):\n",
    "    table.append(i.text)\n",
    "\n",
    "table\n",
    "\n",
    "df = pd.DataFrame({'Player': players, 'Team': teams, 'Rating': ratings})\n",
    "print(df)"
   ]
  },
  {
   "cell_type": "markdown",
   "id": "1ce298c5",
   "metadata": {},
   "source": [
    "# Top 10 ODI Bowlers"
   ]
  },
  {
   "cell_type": "code",
   "execution_count": 136,
   "id": "b924fdc8",
   "metadata": {},
   "outputs": [
    {
     "name": "stdout",
     "output_type": "stream",
     "text": [
      "           Player Team Rating\n",
      "0  Josh Hazlewood  AUS    670\n",
      "1  Mohammed Siraj  IND    668\n",
      "2  Keshav Maharaj   SA    656\n",
      "3     Rashid Khan  AFG    654\n",
      "4     Trent Boult   NZ    653\n",
      "5   Mohammad Nabi  AFG    641\n",
      "6      Adam Zampa  AUS    635\n",
      "7      Matt Henry   NZ    634\n",
      "8   Kuldeep Yadav  IND    632\n",
      "9  Shaheen Afridi  PAK    625\n"
     ]
    }
   ],
   "source": [
    "odiBowlers = 'https://www.icc-cricket.com/rankings/mens/player-rankings/odi/bowling'\n",
    "response = requests.get(odiBowlers)\n",
    "\n",
    "soup = BeautifulSoup(response.content)\n",
    "\n",
    "table = []\n",
    "\n",
    "\n",
    "for i in soup.find_all('table', class_=\"table rankings-table\"):\n",
    "    table.append(i.text)\n",
    "\n",
    "table\n",
    "\n",
    "df = pd.DataFrame({'Player': players, 'Team': teams, 'Rating': ratings})\n",
    "print(df)\n"
   ]
  },
  {
   "cell_type": "markdown",
   "id": "1f5c6c0d",
   "metadata": {},
   "source": [
    "# Ice Cricket - Top 10 Women Team"
   ]
  },
  {
   "cell_type": "code",
   "execution_count": 171,
   "id": "971bfba6",
   "metadata": {},
   "outputs": [
    {
     "name": "stdout",
     "output_type": "stream",
     "text": [
      "               Team Matches Points Rating\n",
      "0    Australia\\nAUS      19  3,084    162\n",
      "1      England\\nENG      23  2,991    130\n",
      "2  South Africa\\nSA      21  2,446    116\n",
      "3        India\\nIND      18  1,745     97\n",
      "4   New Zealand\\nNZ      21  2,014     96\n",
      "5   West Indies\\nWI      18  1,610     89\n",
      "6     Sri Lanka\\nSL       9    714     79\n",
      "7   Bangladesh\\nBAN      11    816     74\n",
      "8     Thailand\\nTHA      11    753     68\n",
      "9     Pakistan\\nPAK      21  1,435     68\n"
     ]
    }
   ],
   "source": [
    "iccWomen = 'https://www.icc-cricket.com/rankings/womens/team-rankings/odi'\n",
    "response = requests.get(iccWomen)\n",
    "\n",
    "soup = BeautifulSoup(response.content)\n",
    "\n",
    "table = soup.find('table', class_='table')\n",
    "\n",
    "teams = []\n",
    "matches = []\n",
    "points = []\n",
    "ratings = []\n",
    "\n",
    "for i in table.find_all('tr')[1:11]:  \n",
    "    columns = i.find_all('td')\n",
    "    if len(columns) == 5:\n",
    "        team = columns[1].text.strip()\n",
    "        match = columns[2].text.strip()\n",
    "        point = columns[3].text.strip()\n",
    "        rating = columns[4].text.strip()\n",
    "\n",
    "        teams.append(team)\n",
    "        matches.append(match)\n",
    "        points.append(point)\n",
    "        ratings.append(rating)\n",
    "\n",
    "df = pd.DataFrame({'Team': teams,'Matches': matches,'Points': points, 'Rating': ratings})\n",
    "\n",
    "print(df)"
   ]
  },
  {
   "cell_type": "markdown",
   "id": "1f84338f",
   "metadata": {},
   "source": [
    "# Top 10 ODI Women Batting"
   ]
  },
  {
   "cell_type": "code",
   "execution_count": 164,
   "id": "3a0b20d3",
   "metadata": {},
   "outputs": [
    {
     "name": "stdout",
     "output_type": "stream",
     "text": [
      "                 Player              Team Rating\n",
      "0  Natalie Sciver-Brunt    Australia\\nAUS    162\n",
      "1           Beth Mooney      England\\nENG    130\n",
      "2   Chamari Athapaththu  South Africa\\nSA    116\n",
      "3       Laura Wolvaardt        India\\nIND     97\n",
      "4       Smriti Mandhana   New Zealand\\nNZ     96\n",
      "5          Alyssa Healy   West Indies\\nWI     89\n",
      "6          Ellyse Perry     Sri Lanka\\nSL     79\n",
      "7      Harmanpreet Kaur   Bangladesh\\nBAN     74\n",
      "8           Meg Lanning     Thailand\\nTHA     68\n",
      "9        Marizanne Kapp     Pakistan\\nPAK     68\n"
     ]
    }
   ],
   "source": [
    "odiWBatting = 'https://www.icc-cricket.com/rankings/womens/player-rankings/odi/batting'\n",
    "response = requests.get(odiWBatting)\n",
    "\n",
    "soup = BeautifulSoup(response.content)\n",
    "\n",
    "table = []\n",
    "\n",
    "\n",
    "for i in soup.find_all('table', class_=\"table rankings-table\"):\n",
    "    table.append(i.text)\n",
    "\n",
    "table\n",
    "\n",
    "df = pd.DataFrame({'Player': players, 'Team': teams, 'Rating': ratings})\n",
    "print(df)\n"
   ]
  },
  {
   "cell_type": "markdown",
   "id": "d2d07ac9",
   "metadata": {},
   "source": [
    "# Top 10 ODI Women Bowlers"
   ]
  },
  {
   "cell_type": "code",
   "execution_count": 178,
   "id": "8e3fb355",
   "metadata": {},
   "outputs": [
    {
     "name": "stdout",
     "output_type": "stream",
     "text": [
      "           Player              Team Rating\n",
      "0  Josh Hazlewood    Australia\\nAUS    162\n",
      "1  Mohammed Siraj      England\\nENG    130\n",
      "2  Keshav Maharaj  South Africa\\nSA    116\n",
      "3     Rashid Khan        India\\nIND     97\n",
      "4     Trent Boult   New Zealand\\nNZ     96\n",
      "5   Mohammad Nabi   West Indies\\nWI     89\n",
      "6      Adam Zampa     Sri Lanka\\nSL     79\n",
      "7      Matt Henry   Bangladesh\\nBAN     74\n",
      "8   Kuldeep Yadav     Thailand\\nTHA     68\n",
      "9  Shaheen Afridi     Pakistan\\nPAK     68\n"
     ]
    }
   ],
   "source": [
    "odiWBowling = 'https://www.icc-cricket.com/rankings/womens/player-rankings/odi/bowling'\n",
    "response = requests.get(odiWBowling)\n",
    "\n",
    "soup = BeautifulSoup(response.content)\n",
    "\n",
    "table = []\n",
    "\n",
    "for i in soup.find_all('table', class_=\"table rankings-table\"):\n",
    "    table.append(i.text)\n",
    "\n",
    "table\n",
    "\n",
    "df = pd.DataFrame({'Player': players, 'Team': teams, 'Rating': ratings})\n",
    "print(df)\n"
   ]
  },
  {
   "cell_type": "markdown",
   "id": "0353aa5e",
   "metadata": {},
   "source": [
    "# CNBC News"
   ]
  },
  {
   "cell_type": "code",
   "execution_count": 196,
   "id": "a472a138",
   "metadata": {},
   "outputs": [
    {
     "data": {
      "text/plain": [
       "[\"14 Min AgoThe best fast food Halloween deals, from Wendy's to Krispy Kreme\",\n",
       " \"29 Min AgoHere's how much sugar is in the 10 most popular Halloween candies\",\n",
       " \"31 Min AgoAfter Monday's rebound, Cramer explains how the market can keep rallying \",\n",
       " '1 Hour AgoStock futures are little changed after major averages rebound to start the week',\n",
       " \"2 Hours AgoMcDonald's latest earnings results outperform estimates. What the pros say\",\n",
       " '2 Hours AgoStocks making the biggest moves after hours: Pinterest, Wolfspeed and more',\n",
       " \"2 Hours AgoWhy Mark Cuban rejected a 'Shark Tank' CEO who was 'doing everything right'\",\n",
       " \"3 Hours AgoWe're not ready to bail on Ford after the UAW deal. But we have lots of questions\",\n",
       " '3 Hours AgoCompanies lower salaries in job postings as pay transparency laws take effect',\n",
       " '3 Hours AgoPinterest reports third-quarter earnings beat',\n",
       " '4 Hours AgoShipping industry could lose $10 billion a year battling climate change by 2050',\n",
       " '4 Hours AgoTesla shares drop 5% on Panasonic battery warning, down 18% since earnings',\n",
       " '4 Hours AgoIsraeli economists urge Netanyahu to re-open budget to account for war',\n",
       " '4 Hours AgoMagnificent Seven are masking a rough market. Jim Cramer says these 3 stocks are buys',\n",
       " '4 Hours AgoTreasury to borrow $776 billion in the final three months of the year',\n",
       " '5 Hours AgoWhy the Fed could be wrong — again — on its latest interest rate call',\n",
       " \"5 Hours AgoAlphabet CEO Sundar Pichai defends Google's search deals in antitrust trial\",\n",
       " '5 Hours AgoShares of ON Semiconductor fall 21% as fourth-quarter guidance disappoints',\n",
       " \"5 Hours AgoMention your weaknesses in a job interview, says CEO who's raised $280 million\",\n",
       " \"5 Hours AgoWill Social Security be there for me when I retire? Here's the agency's answer\",\n",
       " '5 Hours AgoBiden announces $1.3 billion to upgrade aging electric grid',\n",
       " '5 Hours AgoThese stocks have earnings momentum heading into their reports this week',\n",
       " '6 Hours AgoWhy Broadcom stock is compelling with or without $61 billion takeover of VMWare',\n",
       " '6 Hours AgoMost middle-income Americans still earning less than 3% on savings, survey finds',\n",
       " '6 Hours AgoTrump gag order reinstated in Jack Smith federal election case',\n",
       " '7 Hours AgoSam Bankman-Fried blames top lieutenants in day two of testimony',\n",
       " '7 Hours AgoWall Street is too eager to buy the dip in bonds, says Strategas',\n",
       " '7 Hours AgoPentagon awards $1.3 billion in contracts to Northrop, York for 100 satellites',\n",
       " '7 Hours AgoMicrosoft may have its ‘iPhone moment’ this week, says Piper Sandler ',\n",
       " \"7 Hours AgoStocks making the biggest moves midday: SoFi, McDonald's, Western Digital\"]"
      ]
     },
     "execution_count": 196,
     "metadata": {},
     "output_type": "execute_result"
    }
   ],
   "source": [
    "mentionedNews = 'https://www.cnbc.com/world/?region=world'\n",
    "response = requests.get(mentionedNews)\n",
    "soup = BeautifulSoup(response.content)\n",
    "\n",
    "news = []\n",
    "\n",
    "for i in soup.find_all('li', class_='LatestNews-item'):\n",
    "    news.append(i.text)\n",
    "    \n",
    "news\n",
    "\n",
    "# df = pd.DataFrame({'Headline': headline, 'Time': time, 'News Link': link})\n",
    "# print(df)\n"
   ]
  },
  {
   "cell_type": "markdown",
   "id": "a4e37f3b",
   "metadata": {},
   "source": [
    "# Elsevier Downloads"
   ]
  },
  {
   "cell_type": "code",
   "execution_count": 198,
   "id": "4fe2ffd3",
   "metadata": {},
   "outputs": [
    {
     "data": {
      "text/plain": [
       "['Reward is enoughDavid Silver, Satinder Singh, Doina Precup, Richard S. Sutton Open AccessOctober 2021Explanation in artificial intelligence: Insights from the social sciencesTim Miller Open AccessFebruary 2019Creativity and artificial intelligenceMargaret A. Boden Open AccessAugust 1998Conflict-based search for optimal multi-agent pathfindingGuni Sharon, Roni Stern, Ariel Felner, Nathan R. Sturtevant Open AccessFebruary 2015Knowledge graphs as tools for explainable machine learning: A surveyIlaria Tiddi, Stefan Schlobach Open AccessJanuary 2022Law and logic: A review from an argumentation perspectiveHenry Prakken, Giovanni Sartor Open AccessOctober 2015Between MDPs and semi-MDPs: A framework for temporal abstraction in reinforcement learningRichard S. Sutton, Doina Precup, Satinder Singh Open AccessAugust 1999Explaining individual predictions when features are dependent: More accurate approximations to Shapley valuesKjersti Aas, Martin Jullum, Anders Løland Open AccessSeptember 2021Multiple object tracking: A literature reviewWenhan Luo, Junliang Xing and 4 moreApril 2021A survey of inverse reinforcement learning: Challenges, methods and progressSaurabh Arora, Prashant Doshi August 2021Evaluating XAI: A comparison of rule-based and example-based explanationsJasper van der Waa, Elisabeth Nieuwburg, Anita Cremers, Mark Neerincx Open AccessFebruary 2021Explainable AI tools for legal reasoning about cases: A study on the European Court of Human RightsJoe Collenette, Katie Atkinson, Trevor Bench-Capon Open AccessApril 2023Hard choices in artificial intelligenceRoel Dobbe, Thomas Krendl Gilbert, Yonatan Mintz Open AccessNovember 2021Assessing the communication gap between AI models and healthcare professionals: Explainability, utility and trust in AI-driven clinical decision-makingOskar Wysocki, Jessica Katharine Davies and 5 moreOpen AccessMarch 2023Explaining black-box classifiers using post-hoc explanations-by-example: The effect of explanations and error-rates in XAI user studiesEoin M. Kenny, Courtney Ford, Molly Quinn, Mark T. Keane Open AccessMay 2021The Hanabi challenge: A new frontier for AI researchNolan Bard, Jakob N. Foerster and 13 moreOpen AccessMarch 2020Wrappers for feature subset selectionRon Kohavi, George H. John Open AccessDecember 1997Artificial cognition for social human–robot interaction: An implementationSéverin Lemaignan, Mathieu Warnier and 3 moreOpen AccessJune 2017A review of possible effects of cognitive biases on interpretation of rule-based machine learning modelsTomáš Kliegr, Štěpán Bahník, Johannes Fürnkranz Open AccessJune 2021The multifaceted impact of Ada Lovelace in the digital ageLuigia Carlucci Aiello Open AccessJune 2016Robot ethics: Mapping the issues for a mechanized worldPatrick Lin, Keith Abney, George Bekey Open AccessApril 2011Reward (Mis)design for autonomous drivingW. Bradley Knox, Alessandro Allievi and 3 moreOpen AccessMarch 2023Planning and acting in partially observable stochastic domainsLeslie Pack Kaelbling, Michael L. Littman, Anthony R. Cassandra Open AccessMay 1998What do we want from Explainable Artificial Intelligence (XAI)? – A stakeholder perspective on XAI and a conceptual model guiding interdisciplinary XAI researchMarkus Langer, Daniel Oster and 6 moreJuly 2021']"
      ]
     },
     "execution_count": 198,
     "metadata": {},
     "output_type": "execute_result"
    }
   ],
   "source": [
    "downloads = 'https://www.journals.elsevier.com/artificial-intelligence/most-downloaded-articles'\n",
    "response = requests.get(downloads)\n",
    "\n",
    "soup = BeautifulSoup(response.content)\n",
    "\n",
    "articles = []\n",
    "\n",
    "for i in soup.find_all('ul', class_=\"sc-9zxyh7-0 cMKaMj\"):\n",
    "    articles.append(i.text)\n",
    "\n",
    "articles\n",
    "\n",
    "\n",
    "# df = pd.DataFrame({'Paper Title': paper_title, 'Authors': authors, 'Published Date': published_dates, 'Paper URL': paper_urls})\n",
    "# print(df)"
   ]
  },
  {
   "cell_type": "markdown",
   "id": "1630552a",
   "metadata": {},
   "source": [
    "# Dineout "
   ]
  },
  {
   "cell_type": "code",
   "execution_count": null,
   "id": "2afef165",
   "metadata": {},
   "outputs": [],
   "source": [
    "Out of Service Area"
   ]
  }
 ],
 "metadata": {
  "kernelspec": {
   "display_name": "Python 3 (ipykernel)",
   "language": "python",
   "name": "python3"
  },
  "language_info": {
   "codemirror_mode": {
    "name": "ipython",
    "version": 3
   },
   "file_extension": ".py",
   "mimetype": "text/x-python",
   "name": "python",
   "nbconvert_exporter": "python",
   "pygments_lexer": "ipython3",
   "version": "3.9.13"
  }
 },
 "nbformat": 4,
 "nbformat_minor": 5
}
