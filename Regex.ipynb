{
 "cells": [
  {
   "cell_type": "code",
   "execution_count": 38,
   "id": "32600b0f",
   "metadata": {},
   "outputs": [
    {
     "name": "stdout",
     "output_type": "stream",
     "text": [
      "Python:Exercises::PHP:exercises\n"
     ]
    }
   ],
   "source": [
    "#Question 1- Write a Python program to replace all occurrences of a space, comma, or dot with a colon.\n",
    "\n",
    "import re\n",
    "\n",
    "def replace_colon(string):\n",
    "  return re.sub('[ ,.]', ':', string)\n",
    "test = \"Python Exercises, PHP exercises\"\n",
    "print(replace_colon(test))"
   ]
  },
  {
   "cell_type": "code",
   "execution_count": 5,
   "id": "517605cd",
   "metadata": {},
   "outputs": [
    {
     "name": "stdout",
     "output_type": "stream",
     "text": [
      "['Ant', 'Antelope', 'Anaconda', 'Elephant', 'Egg', 'Egypt']\n"
     ]
    }
   ],
   "source": [
    "# Question 2 - Write a Python program to find all words starting with 'a' or 'e' in a given string.\n",
    "\n",
    "def a_e_starters(text):\n",
    "    pattern = r'\\b[aeAE]\\w*\\b'\n",
    "    return re.findall(pattern, text)\n",
    "test_starters =\"Ant Antelope Anaconda Banana Baby Chameleon Camel Donkey David Elephant Egg Egypt French\"\n",
    "print(a_e_starters(test_starters))"
   ]
  },
  {
   "cell_type": "code",
   "execution_count": 15,
   "id": "a1d26221",
   "metadata": {},
   "outputs": [
    {
     "name": "stdout",
     "output_type": "stream",
     "text": [
      "['apple', 'banana', 'cherry', 'elephant', 'frog', 'grapes', 'house', 'icecream', 'jazz', 'kite', 'lion', 'monkey', 'nurse', 'orange', 'parrot', 'queen', 'rabbit', 'snake', 'tiger', 'umbrella', 'violin', 'whale', 'xylophone', 'yarn', 'zebra']\n"
     ]
    }
   ],
   "source": [
    "# Question 3 - Create a function in python to find all words that are at least 4 characters long in a string. The use of the re.compile() method is mandatory.\n",
    "\n",
    "def char4_words(text):\n",
    "    pattern = re.compile(r'\\b\\w{4,}\\b')\n",
    "    long_words = pattern.findall(text)\n",
    "    return long_words\n",
    "\n",
    "words = \"apple banana cherry dog elephant frog grapes house icecream jazz kite lion monkey nurse orange parrot queen rabbit snake tiger umbrella violin whale xylophone yarn zebra\"\n",
    "print(char4_words(words))\n"
   ]
  },
  {
   "cell_type": "code",
   "execution_count": 18,
   "id": "7af200d5",
   "metadata": {},
   "outputs": [
    {
     "name": "stdout",
     "output_type": "stream",
     "text": [
      "['apple', 'dog', 'frog', 'house', 'jazz', 'kite', 'lion', 'nurse', 'queen', 'snake', 'tiger', 'whale', 'yarn', 'zebra']\n"
     ]
    }
   ],
   "source": [
    "# Question 4 - Create a function in python to find all three, four, and five character words in a string. The use of the re.compile() method is mandatory.\n",
    "\n",
    "def char3_4_5(text):\n",
    "    pattern = re.compile(r'\\b\\w{3,5}\\b')\n",
    "    return pattern.findall(text)\n",
    "words = \"apple banana cherry dog elephant frog grapes house icecream jazz kite lion monkey nurse orange parrot queen rabbit snake tiger umbrella violin whale xylophone yarn zebra\"\n",
    "print(char3_4_5(words))"
   ]
  },
  {
   "cell_type": "code",
   "execution_count": 34,
   "id": "92eb5168",
   "metadata": {},
   "outputs": [
    {
     "name": "stdout",
     "output_type": "stream",
     "text": [
      "example .com\n",
      "hr@fliprobo .com\n",
      "github .com\n",
      "Hello Data Science World\n",
      "Data Scientist\n"
     ]
    }
   ],
   "source": [
    "# Question 5 - Create a function in Python to remove the parenthesis in a list of strings. The use of the re.compile() method is mandatory.\n",
    "\n",
    "def remove_parenthesis(strings):\n",
    "    pattern = re.compile(r'\\(([^)]*)\\)')\n",
    "    return [pattern.sub(r'\\1', string).replace('\\'', '') for string in strings] \n",
    "words = [\"example (.com)\", \"hr@fliprobo (.com)\", \"github (.com)\", \"Hello (Data Science World)\", \"Data (Scientist)\"]\n",
    "\n",
    "for word in remove_parenthesis(words):\n",
    "    print(word)\n"
   ]
  },
  {
   "cell_type": "code",
   "execution_count": 103,
   "id": "cc0a1bda",
   "metadata": {},
   "outputs": [
    {
     "name": "stdout",
     "output_type": "stream",
     "text": [
      "example\n",
      "hr@fliprobo\n",
      "github\n",
      "Hello\n",
      "Data\n"
     ]
    }
   ],
   "source": [
    "# Question 6 - Write a python program to remove the parenthesis area from the text stored in the text file using Regular Expression.\n",
    "\n",
    "def remove_parentheses(strings):\n",
    "    pattern = re.compile(r'\\s*\\([^)]*\\)')  # Corrected regex pattern\n",
    "    return [pattern.sub('', string).replace('\\'', '') for string in strings]\n",
    "\n",
    "words = [\"example (.com)\", \"hr@fliprobo (.com)\", \"github (.com)\", \"Hello (Data Science World)\", \"Data (Scientist)\"]\n",
    "\n",
    "for word in remove_parentheses(words):\n",
    "    print(word)"
   ]
  },
  {
   "cell_type": "code",
   "execution_count": 101,
   "id": "4945176c",
   "metadata": {},
   "outputs": [
    {
     "name": "stdout",
     "output_type": "stream",
     "text": [
      "['Importance', 'Of', 'Regular', 'Expressions', 'In', 'Python']\n"
     ]
    }
   ],
   "source": [
    "# Question 7- Write a regular expression in Python to split a string into uppercase letters.\n",
    "\n",
    "def split_to_uppercase(text):\n",
    "    pattern = re.compile(r'(?=[A-Z])')  # Positive lookahead for uppercase letters\n",
    "    return re.split(pattern, text)[1:]  # Split the string and exclude the first empty string\n",
    "\n",
    "sample_text = \"ImportanceOfRegularExpressionsInPython\"\n",
    "print(split_to_uppercase(sample_text))"
   ]
  },
  {
   "cell_type": "code",
   "execution_count": 44,
   "id": "599c976d",
   "metadata": {},
   "outputs": [
    {
     "name": "stdout",
     "output_type": "stream",
     "text": [
      "RegularExpression 1IsAn 2ImportantTopic 3InPython\n"
     ]
    }
   ],
   "source": [
    "# Question 8 - Create a function in python to insert spaces between words starting with numbers.\n",
    "def spaces_before_numbers(text):\n",
    "    pattern = re.compile(r'(?=\\d)')\n",
    "    return re.sub(pattern, ' ', text)\n",
    "\n",
    "sample_text = \"RegularExpression1IsAn2ImportantTopic3InPython\"\n",
    "print(spaces_before_numbers(sample_text))"
   ]
  },
  {
   "cell_type": "code",
   "execution_count": 52,
   "id": "65e29b25",
   "metadata": {},
   "outputs": [
    {
     "name": "stdout",
     "output_type": "stream",
     "text": [
      "Regular Expression 1Is An 2Important Topic 3In Python\n"
     ]
    }
   ],
   "source": [
    "# Question 9- Create a function in python to insert spaces between words starting with capital letters or with numbers.\n",
    "\n",
    "def space_caps_numbers(text):\n",
    "    pattern = re.compile(r'(?<=[a-z])((?=[A-Z])|(?<=\\D)(?=\\d))')\n",
    "    return re.sub(pattern, ' ', text)\n",
    "\n",
    "sample_text = \"RegularExpression1IsAn2ImportantTopic3InPython\"\n",
    "\n",
    "print(space_caps_numbers(sample_text))"
   ]
  },
  {
   "cell_type": "code",
   "execution_count": 54,
   "id": "a63e4360",
   "metadata": {},
   "outputs": [
    {
     "name": "stdout",
     "output_type": "stream",
     "text": [
      "['xyz@domain.com', 'xyz.abc@sdomain.domain.com', 'hr@fliprobo.com']\n"
     ]
    }
   ],
   "source": [
    "# Question 10 - Write a python program to extract email address from the text stored in the text file using Regular Expression.\n",
    "\n",
    "def extract_emails(file_path):\n",
    "    email_pattern = re.compile(r'\\b[A-Za-z0-9._%+-]+@[A-Za-z0-9.-]+\\.[A-Z|a-z]{2,}\\b')\n",
    "    \n",
    "    with open(file_path, 'r') as file:\n",
    "        contents = file.readlines()\n",
    "        \n",
    "    for line in contents:\n",
    "        emails = re.findall(email_pattern, line)\n",
    "        print(emails)\n",
    "\n",
    "sample_text = \"Hello my name is Data Science and my email address is xyz@domain.com and alternate email address is xyz.abc@sdomain.domain.com. Please contact us at hr@fliprobo.com for further information.\"\n",
    "\n",
    "with open(\"sample_text.txt\", 'w') as file:\n",
    "    file.write(sample_text)\n",
    "\n",
    "extract_emails(\"sample_text.txt\")\n"
   ]
  },
  {
   "cell_type": "code",
   "execution_count": 100,
   "id": "3e8e956c",
   "metadata": {},
   "outputs": [
    {
     "name": "stdout",
     "output_type": "stream",
     "text": [
      "'Valid_String1'\n",
      "'Valid2'\n"
     ]
    }
   ],
   "source": [
    "# Qustion 11 - Write a Python program to match a string that contains only upper and lowercase letters, numbers, and underscores.\n",
    "\n",
    "def valid_match(s):\n",
    "    pattern = re.compile(r'^[\\w]+$')\n",
    "    \n",
    "    if pattern.match(s):\n",
    "        return True\n",
    "    else:\n",
    "        return False\n",
    "\n",
    "test_strings = [\"Valid_String1\", \"Invalid String\", \"Another_InvalidString@\", \"Valid2\"]\n",
    "\n",
    "for s in test_strings:\n",
    "    if valid_match(s):\n",
    "        print(f\"'{s}'\")"
   ]
  },
  {
   "cell_type": "code",
   "execution_count": 99,
   "id": "2180e4ae",
   "metadata": {},
   "outputs": [
    {
     "name": "stdout",
     "output_type": "stream",
     "text": [
      "'2isValid'\n",
      "'2000Valid'\n"
     ]
    }
   ],
   "source": [
    "# Question 12- Write a Python program where a string will start with a specific number. \n",
    "\n",
    "def start_number(s, number=2):\n",
    "    pattern = re.compile(rf'^{number}')\n",
    "    return bool(pattern.match(s))\n",
    "\n",
    "test_strings = [\"2isValid\", \"123isInvalid\", \"2000Valid\", \"not42Invalid\"]\n",
    "\n",
    "for s in test_strings:\n",
    "    if start_number(s):\n",
    "        print(f\"'{s}'\")"
   ]
  },
  {
   "cell_type": "code",
   "execution_count": 60,
   "id": "53bdc967",
   "metadata": {},
   "outputs": [
    {
     "name": "stdout",
     "output_type": "stream",
     "text": [
      "192.168.1.2\n"
     ]
    }
   ],
   "source": [
    "# Question 13- Write a Python program to remove leading zeros from an IP address\n",
    "\n",
    "def remove_leading_zeros(ip):\n",
    "    new_ip = [str(int(octet)) for octet in ip.split('.')]\n",
    "    return '.'.join(new_ip)\n",
    "\n",
    "ip = \"192.168.001.002\"\n",
    "\n",
    "print(remove_leading_zeros(ip))"
   ]
  },
  {
   "cell_type": "code",
   "execution_count": 61,
   "id": "a060b9be",
   "metadata": {},
   "outputs": [
    {
     "name": "stdout",
     "output_type": "stream",
     "text": [
      "August 15th 1947\n"
     ]
    }
   ],
   "source": [
    "# Question 14 - Write a regular expression in python to match a date string in the form of Month name followed by day number and year stored in a text file.\n",
    "\n",
    "def extract_date(file_path):\n",
    "    date_pattern = re.compile(r'\\b(January|February|March|April|May|June|July|August|September|October|November|December)\\s\\d{1,2}(?:st|nd|rd|th)?\\s\\d{4}\\b')\n",
    "    \n",
    "    with open(file_path, 'r') as file:\n",
    "        content = file.read()\n",
    "        match = date_pattern.search(content) \n",
    "        if match:\n",
    "            return match.group()\n",
    "        else:\n",
    "            return \"No date found in the text file.\"\n",
    "\n",
    "sample_text = \"On August 15th 1947 that India was declared independent from British colonialism, and the reins of control were handed over to the leaders of the Country.\"\n",
    "\n",
    "with open('sample_text.txt', 'w') as file:\n",
    "    file.write(sample_text)\n",
    "\n",
    "file_path = 'sample_text.txt'\n",
    "\n",
    "extracted_date = extract_date(file_path)\n",
    "print(f\"{extracted_date}\")"
   ]
  },
  {
   "cell_type": "code",
   "execution_count": 69,
   "id": "0755b4aa",
   "metadata": {},
   "outputs": [
    {
     "name": "stdout",
     "output_type": "stream",
     "text": [
      "fox' was found in the text.\n",
      "dog' was found in the text.\n",
      "horse' was not found in the text.\n"
     ]
    }
   ],
   "source": [
    "# Question 15 - Write a Python program to search some literals strings in a string. \n",
    "\n",
    "def search_literals(text, words):\n",
    "    found_words = {}\n",
    "    for word in words:\n",
    "        if re.search(r'\\b' + re.escape(word) + r'\\b', text):\n",
    "            found_words[word] = \"found\"\n",
    "        else:\n",
    "            found_words[word] = \"not found\"\n",
    "    return found_words\n",
    "\n",
    "sample_text = 'The quick brown fox jumps over the lazy dog.'\n",
    "searched_words = ['fox', 'dog', 'horse']\n",
    "\n",
    "found_words = search_literals(sample_text, searched_words)\n",
    "\n",
    "for word, status in found_words.items():\n",
    "    print(f\"{word}' was {status} in the text.\")"
   ]
  },
  {
   "cell_type": "code",
   "execution_count": 98,
   "id": "daee5e22",
   "metadata": {},
   "outputs": [
    {
     "name": "stdout",
     "output_type": "stream",
     "text": [
      "'fox' was found in the text.\n"
     ]
    }
   ],
   "source": [
    "# Question 16 - Write a Python program to search a literals string in a string and also find the location within the original string where the pattern occurs\n",
    "\n",
    "def literal_and_location(text, word):\n",
    "    match = re.search(r'\\b' + re.escape(word) + r'\\b', text)\n",
    "    if match:\n",
    "        print(f\"'{word}' was found in the text.\")\n",
    "    else:\n",
    "        print(f\"{word}' was not found in the text.\")\n",
    "\n",
    "sample_text = 'The quick brown fox jumps over the lazy dog.'\n",
    "searched_word = 'fox'\n",
    "\n",
    "literal_and_location(sample_text, searched_word)"
   ]
  },
  {
   "cell_type": "code",
   "execution_count": 70,
   "id": "523ec50c",
   "metadata": {},
   "outputs": [
    {
     "name": "stdout",
     "output_type": "stream",
     "text": [
      "Pattern 'exercises' found at index: 7 - 16\n",
      "Pattern 'exercises' found at index: 22 - 31\n",
      "Pattern 'exercises' found at index: 36 - 45\n"
     ]
    }
   ],
   "source": [
    "# Question 17- Write a Python program to find the substrings within a string.\n",
    "\n",
    "def find_substrings(text, pattern):\n",
    "    matches = re.finditer(pattern, text)\n",
    "    for match in matches:\n",
    "        print(f\"Pattern '{pattern}' found at index: {match.start()} - {match.end()}\")\n",
    "\n",
    "sample_text = 'Python exercises, PHP exercises, C# exercises'\n",
    "pattern = 'exercises'\n",
    "\n",
    "# Finding the substrings and displaying results\n",
    "find_substrings(sample_text, pattern)"
   ]
  },
  {
   "cell_type": "code",
   "execution_count": null,
   "id": "63cfd0cc",
   "metadata": {},
   "outputs": [],
   "source": [
    "# Question 18 - Write a Python program to find the occurrence and position of the substrings within a string\n",
    "\n",
    "def find_occurrences(text, pattern):\n",
    "    occurrences = re.finditer(pattern, text)\n",
    "    count = 0\n",
    "    positions = []\n",
    "    \n",
    "    for match in occurrences:\n",
    "        count += 1\n",
    "        positions.append((match.start(), match.end()))\n",
    "        \n",
    "    return count, positions\n",
    "\n",
    "sample_text = 'Python exercises, PHP exercises, C# exercises'\n",
    "pattern = 'exercises'\n",
    "\n",
    "count, positions = find_occurrences(sample_text, pattern)\n",
    "\n",
    "print(f\"The substring '{pattern}' occurred {count} times at positions: {positions}\")"
   ]
  },
  {
   "cell_type": "code",
   "execution_count": 97,
   "id": "9786ce0b",
   "metadata": {
    "scrolled": true
   },
   "outputs": [
    {
     "name": "stdout",
     "output_type": "stream",
     "text": [
      "Original date: 2023-10-06\n",
      "Converted date: 06-10-2023\n"
     ]
    }
   ],
   "source": [
    "# Question 19- Write a Python program to convert a date of yyyy-mm-dd format to dd-mm-yyyy format.\n",
    "\n",
    "def convert_date(date):\n",
    "    return re.sub(r'(\\d{4})-(\\d{2})-(\\d{2})', r'\\3-\\2-\\1', date)\n",
    "\n",
    "date = \"2023-10-06\"\n",
    "converted_date = convert_date(date)\n",
    "\n",
    "print(f\"Original date: {date}\")\n",
    "print(f\"Converted date: {converted_date}\")\n"
   ]
  },
  {
   "cell_type": "code",
   "execution_count": 72,
   "id": "14250d3d",
   "metadata": {},
   "outputs": [
    {
     "name": "stdout",
     "output_type": "stream",
     "text": [
      "['01.12', '145.8', '3.01', '27.25', '0.25']\n"
     ]
    }
   ],
   "source": [
    "# Question 20 - Create a function in python to find all decimal numbers with a precision of 1 or 2 in a string. The use of the re.compile() method is mandatory.\n",
    "\n",
    "def find_decimals(text):\n",
    "    pattern = re.compile(r'\\b\\d+\\.\\d{1,2}\\b')\n",
    "    return pattern.findall(text)\n",
    "\n",
    "sample_text = \"01.12 0132.123 2.31875 145.8 3.01 27.25 0.25\"\n",
    "found_decimals = find_decimals(sample_text)\n",
    "\n",
    "print(found_decimals)"
   ]
  },
  {
   "cell_type": "code",
   "execution_count": 73,
   "id": "60bf64bd",
   "metadata": {},
   "outputs": [
    {
     "name": "stdout",
     "output_type": "stream",
     "text": [
      "Number: 2, Position: 14\n",
      "Number: 3, Position: 27\n"
     ]
    }
   ],
   "source": [
    "# Question 21- Write a Python program to separate and print the numbers and their position of a given string.\n",
    "\n",
    "def separate_and_print(input_string):\n",
    "    numbers = re.finditer(r'\\d+', input_string)\n",
    "    \n",
    "    for number in numbers:\n",
    "        matched_number = number.group()\n",
    "        start_position = number.start()\n",
    "        print(f\"Number: {matched_number}, Position: {start_position}\")\n",
    "\n",
    "sample_text = \"Hello, I have 2 apples and 3 oranges.\"\n",
    "separate_and_print(sample_text)"
   ]
  },
  {
   "cell_type": "code",
   "execution_count": 93,
   "id": "3ade7ad2",
   "metadata": {},
   "outputs": [
    {
     "name": "stdout",
     "output_type": "stream",
     "text": [
      "950\n"
     ]
    }
   ],
   "source": [
    "# Question 22 - Write a regular expression in python program to extract maximum/largest numeric value from a string.\n",
    "\n",
    "def max_numeric(text):\n",
    "    numbers = re.findall(r'\\b\\d+\\b', text)\n",
    "    \n",
    "    max_value = max(map(int, numbers))\n",
    "    \n",
    "    return max_value\n",
    "\n",
    "sample_text = 'My marks in each semester are: 947, 896, 926, 524, 734, 950, 642'\n",
    "print(max_numeric(sample_text))"
   ]
  },
  {
   "cell_type": "code",
   "execution_count": 92,
   "id": "6280c8e8",
   "metadata": {},
   "outputs": [
    {
     "name": "stdout",
     "output_type": "stream",
     "text": [
      "Regular Expression Is An Important Topic In Python\n"
     ]
    }
   ],
   "source": [
    "# Question 23 - Create a function in python to insert spaces between words starting with capital letters.\n",
    "\n",
    "def insert_spaces(text):\n",
    "    return re.sub(r'(?<=[a-z])(?=[A-Z])', ' ', text)\n",
    "\n",
    "# Example usage:\n",
    "sample_text = \"RegularExpressionIsAnImportantTopicInPython\"\n",
    "print(insert_spaces(sample_text))"
   ]
  },
  {
   "cell_type": "code",
   "execution_count": 94,
   "id": "3934b7e6",
   "metadata": {},
   "outputs": [
    {
     "name": "stdout",
     "output_type": "stream",
     "text": [
      "['Regular', 'Expression', 'Is', 'An', 'Important', 'Topic', 'In', 'Python', 'Bbb', 'Ccc']\n"
     ]
    }
   ],
   "source": [
    "# Question 24 - Python regex to find sequences of one upper case letter followed by lower case letters\n",
    "\n",
    "def upper_lower(text):\n",
    "    pattern = re.compile(r'[A-Z][a-z]+')\n",
    "    return pattern.findall(text)\n",
    "\n",
    "sample_text = \"RegularExpression IsAn ImportantTopic InPython AAA Bbb Ccc\"\n",
    "\n",
    "print(upper_lower(sample_text))\n"
   ]
  },
  {
   "cell_type": "code",
   "execution_count": 79,
   "id": "9182b685",
   "metadata": {},
   "outputs": [
    {
     "name": "stdout",
     "output_type": "stream",
     "text": [
      "Hello world\n"
     ]
    }
   ],
   "source": [
    "# Question 25 - Write a Python program to remove continuous duplicate words from Sentence using Regular Expression.\n",
    "\n",
    "def remove_duplicates(text):\n",
    "    pattern = re.compile(r'\\b(\\w+)(\\s+\\1)+\\b', re.IGNORECASE)\n",
    "    return pattern.sub(r'\\1', text)\n",
    "\n",
    "sample_text = \"Hello hello world world\"\n",
    "print(remove_duplicates(sample_text))"
   ]
  },
  {
   "cell_type": "code",
   "execution_count": 81,
   "id": "c290ff2e",
   "metadata": {},
   "outputs": [
    {
     "name": "stdout",
     "output_type": "stream",
     "text": [
      "Valid string - it ends with an alphanumeric character.\n"
     ]
    }
   ],
   "source": [
    "# Question 26-  Write a python program using RegEx to accept string ending with alphanumeric character.\n",
    "\n",
    "def check_string(input_string):\n",
    "    # Regular expression pattern that checks for a string ending with an alphanumeric character\n",
    "    pattern = re.compile(r'.*[a-zA-Z0-9]$')\n",
    "    return bool(re.match(pattern, input_string))\n",
    "\n",
    "sample_text = \"ExampleString1\"\n",
    "\n",
    "if check_string(sample_text):\n",
    "    print(\"Valid string - it ends with an alphanumeric character.\")\n",
    "else:\n",
    "    print(\"Invalid string - it does not end with an alphanumeric character.\")"
   ]
  },
  {
   "cell_type": "code",
   "execution_count": 82,
   "id": "e940d638",
   "metadata": {},
   "outputs": [
    {
     "name": "stdout",
     "output_type": "stream",
     "text": [
      "['#Doltiwal', '#xyzabc', '#Demonetization']\n"
     ]
    }
   ],
   "source": [
    "# Question 27 - Write a python program using RegEx to extract the hashtags.\n",
    "\n",
    "def extract_hashtags(text):\n",
    "    pattern = re.compile(r'#\\w+')\n",
    "    return re.findall(pattern, text)\n",
    "\n",
    "sample_text = \"\"\"RT @kapil_kausik: #Doltiwal I mean #xyzabc is \"hurt\" by #Demonetization as the same has rendered USELESS <ed><U+00A0><U+00BD><ed><U+00B1><U+0089> \"acquired funds\" No wo\"\"\"\n",
    "\n",
    "hashtags = extract_hashtags(sample_text)\n",
    "\n",
    "print(hashtags)"
   ]
  },
  {
   "cell_type": "code",
   "execution_count": 96,
   "id": "7b976a95",
   "metadata": {},
   "outputs": [
    {
     "name": "stdout",
     "output_type": "stream",
     "text": [
      "@Jags123456 Bharat band on 28??<ed><ed>Those who  are protesting #demonetization  are all different party leaders\n"
     ]
    }
   ],
   "source": [
    "# Question 28 - Write a python program using RegEx to remove <U+..> like symbols\n",
    "\n",
    "def remove_symbols(text):\n",
    "    pattern = re.compile(r'<U\\+[0-9A-Fa-f]{2,}>')\n",
    "    return re.sub(pattern, '', text)\n",
    "\n",
    "sample_text = \"@Jags123456 Bharat band on 28??<ed><U+00A0><U+00BD><ed><U+00B8><U+0082>Those who  are protesting #demonetization  are all different party leaders\"\n",
    "\n",
    "cleaned_text = remove_symbols(sample_text)\n",
    "\n",
    "print(cleaned_text)"
   ]
  },
  {
   "cell_type": "code",
   "execution_count": 89,
   "id": "9b8d6675",
   "metadata": {},
   "outputs": [
    {
     "name": "stdout",
     "output_type": "stream",
     "text": [
      "Extracted Dates: []\n"
     ]
    }
   ],
   "source": [
    "# Question 29 - Write a python program to extract dates from the text stored in the text file.\n",
    "\n",
    "def extract_dates(file_path):\n",
    "    date_pattern = re.compile(r'\\b\\d{2}-\\d{2}-\\d{4}\\b')\n",
    "    \n",
    "    with open(file_path, 'r') as file:\n",
    "        content = file.read()\n",
    "        dates = date_pattern.findall(content)\n",
    "        return dates\n",
    "\n",
    "file_path = 'sample_text.txt'\n",
    "dates = extract_dates(file_path)\n",
    "\n",
    "print(\"Extracted Dates:\", dates)"
   ]
  },
  {
   "cell_type": "code",
   "execution_count": 95,
   "id": "b7ce6d0f",
   "metadata": {},
   "outputs": [
    {
     "name": "stdout",
     "output_type": "stream",
     "text": [
      "Original Text:\n",
      " The following example creates an ArrayList with a capacity of 50 elements. 4 elements are then added to the ArrayList and the ArrayList is trimmed accordingly.\n",
      "\n",
      "Filtered Text:\n",
      " following example creates  ArrayList  a capacity   elements. 4 elements   added   ArrayList   ArrayList  trimmed accordingly.\n"
     ]
    }
   ],
   "source": [
    "# Question 30 - Create a function in python to remove all words from a string of length between 2 and 4.\n",
    "\n",
    "def remove_short_words(text):\n",
    "    pattern = re.compile(r'\\b\\w{2,4}\\b')\n",
    "    return pattern.sub('', text)\n",
    "\n",
    "sample_text = \"The following example creates an ArrayList with a capacity of 50 elements. 4 elements are then added to the ArrayList and the ArrayList is trimmed accordingly.\"\n",
    "\n",
    "filtered_text = remove_short_words(sample_text)\n",
    "\n",
    "print(\"Original Text:\\n\", sample_text)\n",
    "print(\"\\nFiltered Text:\\n\", filtered_text.strip())"
   ]
  },
  {
   "cell_type": "code",
   "execution_count": null,
   "id": "af317c69",
   "metadata": {},
   "outputs": [],
   "source": []
  },
  {
   "cell_type": "code",
   "execution_count": null,
   "id": "1ec4c841",
   "metadata": {},
   "outputs": [],
   "source": []
  }
 ],
 "metadata": {
  "kernelspec": {
   "display_name": "Python 3 (ipykernel)",
   "language": "python",
   "name": "python3"
  },
  "language_info": {
   "codemirror_mode": {
    "name": "ipython",
    "version": 3
   },
   "file_extension": ".py",
   "mimetype": "text/x-python",
   "name": "python",
   "nbconvert_exporter": "python",
   "pygments_lexer": "ipython3",
   "version": "3.9.13"
  }
 },
 "nbformat": 4,
 "nbformat_minor": 5
}
